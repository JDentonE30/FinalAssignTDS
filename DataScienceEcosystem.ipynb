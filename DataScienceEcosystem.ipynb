{
 "cells": [
  {
   "cell_type": "markdown",
   "id": "f8494810-b707-4099-9af1-5a06b3e5542d",
   "metadata": {},
   "source": [
    "# **Data Science Tools and Ecosystem**"
   ]
  },
  {
   "cell_type": "markdown",
   "id": "0b3eb622-be2f-4393-ad99-7948c0115772",
   "metadata": {},
   "source": [
    "#### In this notebook, Data Science Tools and Ecosystems are summerised. "
   ]
  },
  {
   "cell_type": "markdown",
   "id": "02132c13-f633-4ef3-b20e-bea45da87b0b",
   "metadata": {},
   "source": [
    "##### **Objectives:**\n",
    "- List popular languages for Data Science.\n",
    "- List popular libraries used within Data Science.\n",
    "- Show the use of markdown cells in Jupyter Notebook.\n",
    "- Show basic arithemtics using Python in Jupyter Notebook."
   ]
  },
  {
   "cell_type": "markdown",
   "id": "2b10ed92-2500-41e7-8872-db9d947f8172",
   "metadata": {},
   "source": [
    "Some of the popular programming languages that data scientists use are as follows:\n",
    "1. Python\n",
    "2. R\n",
    "3. SQL\n",
    "4. Java\n",
    "5. Scala\n",
    "6. C++\n",
    "7. JavaScript\n",
    "8. Julia"
   ]
  },
  {
   "cell_type": "markdown",
   "id": "9f4901e7-ab0f-4e3b-b8bf-556983229046",
   "metadata": {},
   "source": [
    "Some of the commonly used libraries within data science are:\n",
    "1. Pandas\n",
    "2. NumPy\n",
    "3. Matplotlib\n",
    "4. Seaborn\n",
    "5. Scikit-learn"
   ]
  },
  {
   "cell_type": "markdown",
   "id": "a00947e1-0428-46b9-95c0-d4e60d42a5f0",
   "metadata": {},
   "source": [
    "Single column table showing 3 development environment open source tools used in data science:\n",
    "\n",
    "| Data Science Tools    |\n",
    "|-----------------------|\n",
    "|Jupyter IDE/Notebook   |\n",
    "|RStudio                |\n",
    "|Microsoft Visual Studio|"
   ]
  },
  {
   "cell_type": "markdown",
   "id": "e785925d-80ba-4293-a517-744e33a3ff53",
   "metadata": {},
   "source": [
    "### Below are a few examples of evaluating arithmetic expression in Python"
   ]
  },
  {
   "cell_type": "code",
   "execution_count": 9,
   "id": "a8754078-c641-40d9-a2e0-88b4791a1458",
   "metadata": {},
   "outputs": [
    {
     "data": {
      "text/plain": [
       "17"
      ]
     },
     "execution_count": 9,
     "metadata": {},
     "output_type": "execute_result"
    }
   ],
   "source": [
    "# This is a simlpe arithmetic expression to mutiple and add integers.\n",
    "\n",
    "(3*4)+5"
   ]
  },
  {
   "cell_type": "code",
   "execution_count": 11,
   "id": "55b83eb7-70e9-4077-8fb6-2a2f64b34f5b",
   "metadata": {},
   "outputs": [
    {
     "name": "stdout",
     "output_type": "stream",
     "text": [
      "200 minutes is:  3.33 hours.\n",
      "Better written as:\n",
      "200 minutes is  3 hours and  20 minutes.\n"
     ]
    }
   ],
   "source": [
    "# This will convert 200 minutes to hours by dividing by 60.\n",
    "mins = 200\n",
    "# Gets the number of hours by deviding the number of minutes by 60.\n",
    "hours = (mins/60)\n",
    "# Prints the number of hours to two decimal place.\n",
    "print(\"200 minutes is: \", round(hours, 2), \"hours.\") \n",
    "# Or can be written as:\n",
    "print(\"Better written as:\")\n",
    "h = mins//60\n",
    "m = mins%60\n",
    "print(\"200 minutes is \", h, \"hours and \", m, \"minutes.\")"
   ]
  },
  {
   "cell_type": "markdown",
   "id": "f0fa7a69-1977-4f32-b705-b0946283f091",
   "metadata": {},
   "source": [
    "## Author\n",
    "Jacob Blackburn-Denton"
   ]
  },
  {
   "cell_type": "code",
   "execution_count": null,
   "id": "5381e002-8dec-4c54-8bd7-3fb6e5756c3c",
   "metadata": {},
   "outputs": [],
   "source": []
  }
 ],
 "metadata": {
  "kernelspec": {
   "display_name": "Python 3 (ipykernel)",
   "language": "python",
   "name": "python3"
  },
  "language_info": {
   "codemirror_mode": {
    "name": "ipython",
    "version": 3
   },
   "file_extension": ".py",
   "mimetype": "text/x-python",
   "name": "python",
   "nbconvert_exporter": "python",
   "pygments_lexer": "ipython3",
   "version": "3.11.5"
  }
 },
 "nbformat": 4,
 "nbformat_minor": 5
}
